{
  "cells": [
    {
      "cell_type": "markdown",
      "metadata": {},
      "source": [
        "# Assignment 1.1\n",
        "## Practical Deep Learning for Language Processing\n",
        "\n",
        "11/17/2022"
      ]
    },
    {
      "cell_type": "code",
      "execution_count": 1,
      "metadata": {
        "colab": {
          "base_uri": "https://localhost:8080/"
        },
        "id": "8LtGt4oyoL9F",
        "outputId": "c0fd04db-ab7e-40dc-e5c8-b178d52bc4e7"
      },
      "outputs": [
        {
          "name": "stderr",
          "output_type": "stream",
          "text": [
            "/pfs/work7/workspace/scratch/tu_zxobe27-ds_project/conda/envs/nlp/lib/python3.10/site-packages/tqdm/auto.py:22: TqdmWarning: IProgress not found. Please update jupyter and ipywidgets. See https://ipywidgets.readthedocs.io/en/stable/user_install.html\n",
            "  from .autonotebook import tqdm as notebook_tqdm\n"
          ]
        },
        {
          "name": "stdout",
          "output_type": "stream",
          "text": [
            "Loaded 2519370 words\n"
          ]
        }
      ],
      "source": [
        "import torch\n",
        "torch.set_printoptions(edgeitems=3)\n",
        "import torchtext\n",
        "data_dir = './'\n",
        "fasttext = torchtext.vocab.FastText(language='en', cache=data_dir)\n",
        "print('Loaded {} words'.format(len(fasttext.itos)))"
      ]
    },
    {
      "cell_type": "markdown",
      "metadata": {
        "id": "an0o57KYoc51"
      },
      "source": [
        "# Task A\n",
        "#### 1"
      ]
    },
    {
      "cell_type": "code",
      "execution_count": 2,
      "metadata": {},
      "outputs": [],
      "source": [
        "import pandas as pd\n",
        "# read the csv files\n",
        "products = pd.read_csv(\"products.csv\")\n",
        "aisles = pd.read_csv(\"aisles.csv\")"
      ]
    },
    {
      "cell_type": "markdown",
      "metadata": {},
      "source": [
        "#### 2"
      ]
    },
    {
      "cell_type": "code",
      "execution_count": 3,
      "metadata": {},
      "outputs": [],
      "source": [
        "# create a subset of hair care products\n",
        "products_subset = products.loc[products[\"aisle_id\"] == 22].copy()"
      ]
    },
    {
      "cell_type": "code",
      "execution_count": 4,
      "metadata": {},
      "outputs": [
        {
          "data": {
            "text/html": [
              "<div>\n",
              "<style scoped>\n",
              "    .dataframe tbody tr th:only-of-type {\n",
              "        vertical-align: middle;\n",
              "    }\n",
              "\n",
              "    .dataframe tbody tr th {\n",
              "        vertical-align: top;\n",
              "    }\n",
              "\n",
              "    .dataframe thead th {\n",
              "        text-align: right;\n",
              "    }\n",
              "</style>\n",
              "<table border=\"1\" class=\"dataframe\">\n",
              "  <thead>\n",
              "    <tr style=\"text-align: right;\">\n",
              "      <th></th>\n",
              "      <th>product_id</th>\n",
              "      <th>product_name</th>\n",
              "      <th>aisle_id</th>\n",
              "      <th>department_id</th>\n",
              "    </tr>\n",
              "  </thead>\n",
              "  <tbody>\n",
              "    <tr>\n",
              "      <th>50</th>\n",
              "      <td>51</td>\n",
              "      <td>Sa Extra Hold Mousse Hair Styling</td>\n",
              "      <td>22</td>\n",
              "      <td>11</td>\n",
              "    </tr>\n",
              "    <tr>\n",
              "      <th>54</th>\n",
              "      <td>55</td>\n",
              "      <td>Lasting Color Shampoo</td>\n",
              "      <td>22</td>\n",
              "      <td>11</td>\n",
              "    </tr>\n",
              "    <tr>\n",
              "      <th>213</th>\n",
              "      <td>214</td>\n",
              "      <td>Argan Oil of Morocco Renewing Weightless Heali...</td>\n",
              "      <td>22</td>\n",
              "      <td>11</td>\n",
              "    </tr>\n",
              "    <tr>\n",
              "      <th>307</th>\n",
              "      <td>308</td>\n",
              "      <td>Advanced Haircare Color Vibrancy Nourishing Sh...</td>\n",
              "      <td>22</td>\n",
              "      <td>11</td>\n",
              "    </tr>\n",
              "    <tr>\n",
              "      <th>371</th>\n",
              "      <td>372</td>\n",
              "      <td>Moisture Rich Sweet Orange &amp; Argan Conditioner</td>\n",
              "      <td>22</td>\n",
              "      <td>11</td>\n",
              "    </tr>\n",
              "  </tbody>\n",
              "</table>\n",
              "</div>"
            ],
            "text/plain": [
              "     product_id                                       product_name  aisle_id  \\\n",
              "50           51                  Sa Extra Hold Mousse Hair Styling        22   \n",
              "54           55                              Lasting Color Shampoo        22   \n",
              "213         214  Argan Oil of Morocco Renewing Weightless Heali...        22   \n",
              "307         308  Advanced Haircare Color Vibrancy Nourishing Sh...        22   \n",
              "371         372     Moisture Rich Sweet Orange & Argan Conditioner        22   \n",
              "\n",
              "     department_id  \n",
              "50              11  \n",
              "54              11  \n",
              "213             11  \n",
              "307             11  \n",
              "371             11  "
            ]
          },
          "execution_count": 4,
          "metadata": {},
          "output_type": "execute_result"
        }
      ],
      "source": [
        "# print the head of the subset\n",
        "products_subset.head(5)"
      ]
    },
    {
      "cell_type": "markdown",
      "metadata": {},
      "source": [
        "#### 3"
      ]
    },
    {
      "cell_type": "code",
      "execution_count": 5,
      "metadata": {
        "id": "Wa_AZ7mpoecY"
      },
      "outputs": [],
      "source": [
        "import re\n",
        "def cleanupText(s):\n",
        "    \"\"\"\n",
        "    Given a text, cleans. Feel free to add your own stuff.\n",
        "    \"\"\"\n",
        "    s = s.lower()\n",
        "    # Replace ips\n",
        "    s = re.sub(r'\\d{1,3}\\.\\d{1,3}\\.\\d{1,3}\\.\\d{1,3}', ' _ip_ ', s)\n",
        "    # Isolate punctuation\n",
        "    s = re.sub(r'([.\\(\\)\\!\\?\\-\\\\\\/\\,])', r' \\1 ', s)\n",
        "    # Remove some special characters\n",
        "    s = re.sub(r'([\\;\\:\\|•«®\\n])', ' ', s)\n",
        "    # Replace numbers and symbols with language\n",
        "    s = s.replace('&', ' and ')\n",
        "    s = s.replace('@', ' at ')\n",
        "    s = s.replace('0', ' zero ')\n",
        "    s = s.replace('1', ' one ')\n",
        "    s = s.replace('2', ' two ')\n",
        "    s = s.replace('3', ' three ')\n",
        "    s = s.replace('4', ' four ')\n",
        "    s = s.replace('5', ' five ')\n",
        "    s = s.replace('6', ' six ')\n",
        "    s = s.replace('7', ' seven ')\n",
        "    s = s.replace('8', ' eight ')\n",
        "    s = s.replace('9', ' nine ')\n",
        "    return s"
      ]
    },
    {
      "cell_type": "code",
      "execution_count": 6,
      "metadata": {},
      "outputs": [],
      "source": [
        "# apply the provided cleanup function\n",
        "products_subset[\"product_name\"] = products_subset[\"product_name\"].apply(cleanupText)"
      ]
    },
    {
      "cell_type": "code",
      "execution_count": 7,
      "metadata": {},
      "outputs": [
        {
          "data": {
            "text/html": [
              "<div>\n",
              "<style scoped>\n",
              "    .dataframe tbody tr th:only-of-type {\n",
              "        vertical-align: middle;\n",
              "    }\n",
              "\n",
              "    .dataframe tbody tr th {\n",
              "        vertical-align: top;\n",
              "    }\n",
              "\n",
              "    .dataframe thead th {\n",
              "        text-align: right;\n",
              "    }\n",
              "</style>\n",
              "<table border=\"1\" class=\"dataframe\">\n",
              "  <thead>\n",
              "    <tr style=\"text-align: right;\">\n",
              "      <th></th>\n",
              "      <th>product_id</th>\n",
              "      <th>product_name</th>\n",
              "      <th>aisle_id</th>\n",
              "      <th>department_id</th>\n",
              "    </tr>\n",
              "  </thead>\n",
              "  <tbody>\n",
              "    <tr>\n",
              "      <th>50</th>\n",
              "      <td>51</td>\n",
              "      <td>sa extra hold mousse hair styling</td>\n",
              "      <td>22</td>\n",
              "      <td>11</td>\n",
              "    </tr>\n",
              "    <tr>\n",
              "      <th>54</th>\n",
              "      <td>55</td>\n",
              "      <td>lasting color shampoo</td>\n",
              "      <td>22</td>\n",
              "      <td>11</td>\n",
              "    </tr>\n",
              "    <tr>\n",
              "      <th>213</th>\n",
              "      <td>214</td>\n",
              "      <td>argan oil of morocco renewing weightless heali...</td>\n",
              "      <td>22</td>\n",
              "      <td>11</td>\n",
              "    </tr>\n",
              "    <tr>\n",
              "      <th>307</th>\n",
              "      <td>308</td>\n",
              "      <td>advanced haircare color vibrancy nourishing sh...</td>\n",
              "      <td>22</td>\n",
              "      <td>11</td>\n",
              "    </tr>\n",
              "    <tr>\n",
              "      <th>371</th>\n",
              "      <td>372</td>\n",
              "      <td>moisture rich sweet orange  and  argan conditi...</td>\n",
              "      <td>22</td>\n",
              "      <td>11</td>\n",
              "    </tr>\n",
              "  </tbody>\n",
              "</table>\n",
              "</div>"
            ],
            "text/plain": [
              "     product_id                                       product_name  aisle_id  \\\n",
              "50           51                  sa extra hold mousse hair styling        22   \n",
              "54           55                              lasting color shampoo        22   \n",
              "213         214  argan oil of morocco renewing weightless heali...        22   \n",
              "307         308  advanced haircare color vibrancy nourishing sh...        22   \n",
              "371         372  moisture rich sweet orange  and  argan conditi...        22   \n",
              "\n",
              "     department_id  \n",
              "50              11  \n",
              "54              11  \n",
              "213             11  \n",
              "307             11  \n",
              "371             11  "
            ]
          },
          "execution_count": 7,
          "metadata": {},
          "output_type": "execute_result"
        }
      ],
      "source": [
        "# print the head of the subset\n",
        "products_subset.head(5)"
      ]
    },
    {
      "cell_type": "markdown",
      "metadata": {},
      "source": [
        "#### 4"
      ]
    },
    {
      "cell_type": "code",
      "execution_count": 8,
      "metadata": {},
      "outputs": [],
      "source": [
        "# import the nltk corpus\n",
        "from nltk.corpus import stopwords\n",
        "# split the words and remove if in stopwords\n",
        "products_subset[\"product_name\"] = products_subset[\"product_name\"].apply(lambda x: \" \".join([word for word in x.split() if word not in (stopwords.words(\"english\"))]))"
      ]
    },
    {
      "cell_type": "code",
      "execution_count": 9,
      "metadata": {},
      "outputs": [
        {
          "data": {
            "text/html": [
              "<div>\n",
              "<style scoped>\n",
              "    .dataframe tbody tr th:only-of-type {\n",
              "        vertical-align: middle;\n",
              "    }\n",
              "\n",
              "    .dataframe tbody tr th {\n",
              "        vertical-align: top;\n",
              "    }\n",
              "\n",
              "    .dataframe thead th {\n",
              "        text-align: right;\n",
              "    }\n",
              "</style>\n",
              "<table border=\"1\" class=\"dataframe\">\n",
              "  <thead>\n",
              "    <tr style=\"text-align: right;\">\n",
              "      <th></th>\n",
              "      <th>product_id</th>\n",
              "      <th>product_name</th>\n",
              "      <th>aisle_id</th>\n",
              "      <th>department_id</th>\n",
              "    </tr>\n",
              "  </thead>\n",
              "  <tbody>\n",
              "    <tr>\n",
              "      <th>50</th>\n",
              "      <td>51</td>\n",
              "      <td>sa extra hold mousse hair styling</td>\n",
              "      <td>22</td>\n",
              "      <td>11</td>\n",
              "    </tr>\n",
              "    <tr>\n",
              "      <th>54</th>\n",
              "      <td>55</td>\n",
              "      <td>lasting color shampoo</td>\n",
              "      <td>22</td>\n",
              "      <td>11</td>\n",
              "    </tr>\n",
              "    <tr>\n",
              "      <th>213</th>\n",
              "      <td>214</td>\n",
              "      <td>argan oil morocco renewing weightless healing ...</td>\n",
              "      <td>22</td>\n",
              "      <td>11</td>\n",
              "    </tr>\n",
              "    <tr>\n",
              "      <th>307</th>\n",
              "      <td>308</td>\n",
              "      <td>advanced haircare color vibrancy nourishing sh...</td>\n",
              "      <td>22</td>\n",
              "      <td>11</td>\n",
              "    </tr>\n",
              "    <tr>\n",
              "      <th>371</th>\n",
              "      <td>372</td>\n",
              "      <td>moisture rich sweet orange argan conditioner</td>\n",
              "      <td>22</td>\n",
              "      <td>11</td>\n",
              "    </tr>\n",
              "  </tbody>\n",
              "</table>\n",
              "</div>"
            ],
            "text/plain": [
              "     product_id                                       product_name  aisle_id  \\\n",
              "50           51                  sa extra hold mousse hair styling        22   \n",
              "54           55                              lasting color shampoo        22   \n",
              "213         214  argan oil morocco renewing weightless healing ...        22   \n",
              "307         308  advanced haircare color vibrancy nourishing sh...        22   \n",
              "371         372       moisture rich sweet orange argan conditioner        22   \n",
              "\n",
              "     department_id  \n",
              "50              11  \n",
              "54              11  \n",
              "213             11  \n",
              "307             11  \n",
              "371             11  "
            ]
          },
          "execution_count": 9,
          "metadata": {},
          "output_type": "execute_result"
        }
      ],
      "source": [
        "# print the head of the subset\n",
        "products_subset.head(5)"
      ]
    },
    {
      "cell_type": "markdown",
      "metadata": {},
      "source": [
        "#### 5"
      ]
    },
    {
      "cell_type": "code",
      "execution_count": 10,
      "metadata": {},
      "outputs": [],
      "source": [
        "# get the representations from the downloaded fasttext dictionary\n",
        "products_subset[\"embedded\"] = products_subset[\"product_name\"].apply(lambda wordlist: [fasttext[x] for x in wordlist]) "
      ]
    },
    {
      "cell_type": "code",
      "execution_count": 11,
      "metadata": {},
      "outputs": [
        {
          "data": {
            "text/plain": [
              "tensor([ 0.0385, -0.1129, -0.1732, -0.0304,  0.1579, -0.0191,  0.0019, -0.1104,\n",
              "        -0.0765,  0.1275])"
            ]
          },
          "execution_count": 11,
          "metadata": {},
          "output_type": "execute_result"
        }
      ],
      "source": [
        "# print example for embedding\n",
        "products_subset[\"embedded\"].iloc[0][0][0:10]"
      ]
    },
    {
      "cell_type": "markdown",
      "metadata": {},
      "source": [
        "#### 6"
      ]
    },
    {
      "cell_type": "code",
      "execution_count": 12,
      "metadata": {},
      "outputs": [],
      "source": [
        "# a function to first stack the vectors into a matrix and then calculate element-wise means\n",
        "def worker(x):\n",
        "    return(torch.mean(torch.stack(x), axis = 0))\n",
        "# calculate rowwise means\n",
        "products_subset[\"representation\"] = products_subset[\"embedded\"].apply(worker)"
      ]
    },
    {
      "cell_type": "code",
      "execution_count": 13,
      "metadata": {},
      "outputs": [
        {
          "data": {
            "text/plain": [
              "tensor([-0.0663, -0.0309, -0.0105, -0.0958, -0.0448, -0.0187,  0.0835, -0.1248,\n",
              "        -0.0452,  0.0359])"
            ]
          },
          "execution_count": 13,
          "metadata": {},
          "output_type": "execute_result"
        }
      ],
      "source": [
        "# print example for representation\n",
        "products_subset[\"representation\"].iloc[0][0:10]"
      ]
    },
    {
      "cell_type": "markdown",
      "metadata": {},
      "source": [
        "#### 7"
      ]
    },
    {
      "cell_type": "code",
      "execution_count": 14,
      "metadata": {},
      "outputs": [],
      "source": [
        "from sklearn.cluster import KMeans\n",
        "# split the data to one column per representative feature\n",
        "spread_data = products_subset[\"representation\"].apply(pd.Series)\n",
        "# calulate the clustering\n",
        "kmeans = KMeans(n_clusters=3, random_state=42).fit(spread_data)"
      ]
    },
    {
      "cell_type": "markdown",
      "metadata": {},
      "source": [
        "#### 8\n",
        "\n",
        "Upon close inspection of the product names it appears to me that the two most dominant categories of products are conditioner and shampoo. To see if the clustering catches these classes, I plot the data: "
      ]
    },
    {
      "cell_type": "code",
      "execution_count": 15,
      "metadata": {},
      "outputs": [],
      "source": [
        "from sklearn.decomposition import PCA\n",
        "# create a supplementary axis for the plot, creating an arbitrary feature with most variance\n",
        "pca = PCA(n_components=1).fit(spread_data)"
      ]
    },
    {
      "cell_type": "code",
      "execution_count": 16,
      "metadata": {},
      "outputs": [],
      "source": [
        "# creating a data frame for visualization\n",
        "viz_subset = products_subset.copy()\n",
        "# create a variable to distinguish shampoo, conditioner, hybrids and others\n",
        "viz_subset.loc[(viz_subset[\"product_name\"].str.contains(\"shampoo\")), \"class\"] = \"shampoo\"\n",
        "viz_subset.loc[(viz_subset[\"product_name\"].str.contains(\"conditioner\")), \"class\"] = \"conditioner\"\n",
        "viz_subset.loc[(viz_subset[\"product_name\"].str.contains(\"shampoo\") &\n",
        "                viz_subset[\"product_name\"].str.contains(\"conditioner\")), \"class\"] = \"both\"\n",
        "viz_subset.loc[(~viz_subset[\"product_name\"].str.contains(\"shampoo\") &\n",
        "                ~viz_subset[\"product_name\"].str.contains(\"conditioner\")), \"class\"] = \"other\"\n",
        "# add the kmeans clusters to the data frame\n",
        "viz_subset[\"cluster\"] = kmeans.predict(spread_data)\n",
        "# add the supplementary dimension to the data frame\n",
        "viz_subset[\"plot_axis\"] = pca.transform(spread_data)"
      ]
    },
    {
      "cell_type": "code",
      "execution_count": 17,
      "metadata": {},
      "outputs": [
        {
          "data": {
            "text/plain": [
              "<AxesSubplot: xlabel='plot_axis', ylabel='class'>"
            ]
          },
          "execution_count": 17,
          "metadata": {},
          "output_type": "execute_result"
        },
        {
          "data": {
            "image/png": "[encoded data removed]",
            "text/plain": [
              "<Figure size 640x480 with 1 Axes>"
            ]
          },
          "metadata": {},
          "output_type": "display_data"
        }
      ],
      "source": [
        "import seaborn as sns\n",
        "# plot the data\n",
        "sns.swarmplot(y = \"class\", x = \"plot_axis\", hue = \"cluster\", data = viz_subset, s = 3, alpha = .8)"
      ]
    },
    {
      "cell_type": "markdown",
      "metadata": {},
      "source": [
        "We see that the clustering indeed catches the two main categories very well. Most conditioners land in cluster *2*, most shampoos in cluster *0* and most others in cluster *1*.\n",
        "\n",
        "#### 9\n",
        "\n",
        "Albeit the clustering is not perfect, I choose the labels `conditioner`, `shampoo`, `other` discussed above for the clusters"
      ]
    },
    {
      "cell_type": "code",
      "execution_count": 18,
      "metadata": {},
      "outputs": [],
      "source": [
        "# set the variable cluster according to the clustering\n",
        "products_subset[\"cluster\"] = pd.Series(kmeans.predict(spread_data)).map({2: \"conditioner\",\n",
        "                                                                         0: \"shampoo\",\n",
        "                                                                         1: \"other\"}).values"
      ]
    },
    {
      "cell_type": "code",
      "execution_count": 19,
      "metadata": {},
      "outputs": [
        {
          "data": {
            "text/html": [
              "<div>\n",
              "<style scoped>\n",
              "    .dataframe tbody tr th:only-of-type {\n",
              "        vertical-align: middle;\n",
              "    }\n",
              "\n",
              "    .dataframe tbody tr th {\n",
              "        vertical-align: top;\n",
              "    }\n",
              "\n",
              "    .dataframe thead th {\n",
              "        text-align: right;\n",
              "    }\n",
              "</style>\n",
              "<table border=\"1\" class=\"dataframe\">\n",
              "  <thead>\n",
              "    <tr style=\"text-align: right;\">\n",
              "      <th></th>\n",
              "      <th>product_name</th>\n",
              "      <th>cluster</th>\n",
              "    </tr>\n",
              "  </thead>\n",
              "  <tbody>\n",
              "    <tr>\n",
              "      <th>50</th>\n",
              "      <td>sa extra hold mousse hair styling</td>\n",
              "      <td>other</td>\n",
              "    </tr>\n",
              "    <tr>\n",
              "      <th>54</th>\n",
              "      <td>lasting color shampoo</td>\n",
              "      <td>shampoo</td>\n",
              "    </tr>\n",
              "    <tr>\n",
              "      <th>213</th>\n",
              "      <td>argan oil morocco renewing weightless healing ...</td>\n",
              "      <td>other</td>\n",
              "    </tr>\n",
              "    <tr>\n",
              "      <th>307</th>\n",
              "      <td>advanced haircare color vibrancy nourishing sh...</td>\n",
              "      <td>other</td>\n",
              "    </tr>\n",
              "    <tr>\n",
              "      <th>371</th>\n",
              "      <td>moisture rich sweet orange argan conditioner</td>\n",
              "      <td>conditioner</td>\n",
              "    </tr>\n",
              "    <tr>\n",
              "      <th>49528</th>\n",
              "      <td>soothing anti - dandruff shampoo</td>\n",
              "      <td>shampoo</td>\n",
              "    </tr>\n",
              "    <tr>\n",
              "      <th>49567</th>\n",
              "      <td>coconut hibiscus curl shine shampoo</td>\n",
              "      <td>shampoo</td>\n",
              "    </tr>\n",
              "    <tr>\n",
              "      <th>49624</th>\n",
              "      <td>golden wheat deep cleanse shampoo</td>\n",
              "      <td>other</td>\n",
              "    </tr>\n",
              "    <tr>\n",
              "      <th>49644</th>\n",
              "      <td>hair types pure clean finishing paste</td>\n",
              "      <td>other</td>\n",
              "    </tr>\n",
              "    <tr>\n",
              "      <th>49659</th>\n",
              "      <td>professionals sleek shampoo</td>\n",
              "      <td>shampoo</td>\n",
              "    </tr>\n",
              "  </tbody>\n",
              "</table>\n",
              "</div>"
            ],
            "text/plain": [
              "                                            product_name      cluster\n",
              "50                     sa extra hold mousse hair styling        other\n",
              "54                                 lasting color shampoo      shampoo\n",
              "213    argan oil morocco renewing weightless healing ...        other\n",
              "307    advanced haircare color vibrancy nourishing sh...        other\n",
              "371         moisture rich sweet orange argan conditioner  conditioner\n",
              "49528                   soothing anti - dandruff shampoo      shampoo\n",
              "49567                coconut hibiscus curl shine shampoo      shampoo\n",
              "49624                  golden wheat deep cleanse shampoo        other\n",
              "49644              hair types pure clean finishing paste        other\n",
              "49659                        professionals sleek shampoo      shampoo"
            ]
          },
          "execution_count": 19,
          "metadata": {},
          "output_type": "execute_result"
        }
      ],
      "source": [
        "# print an excerpt from the results\n",
        "pd.concat([products_subset[[\"product_name\", \"cluster\"]].head(5), products_subset[[\"product_name\", \"cluster\"]].tail(5)])"
      ]
    },
    {
      "cell_type": "markdown",
      "metadata": {},
      "source": [
        "#### 10\n",
        "\n",
        "/"
      ]
    },
    {
      "cell_type": "markdown",
      "metadata": {
        "id": "KBVkYBoRoidg"
      },
      "source": [
        "# Task B"
      ]
    },
    {
      "cell_type": "code",
      "execution_count": 20,
      "metadata": {
        "id": "SppStZlvojyN"
      },
      "outputs": [],
      "source": [
        "genres = ['action', 'adventure', 'comedy', 'drama', 'fantasy', 'horror', 'romance', 'thriller']\n",
        "movies = ['The Hangover', 'Shutter Island', 'Fight Club', 'Jumanji', 'Narcos', 'The Matrix', 'Rush Hour', 'The Mummy', 'Iron Man', 'Silence of the Lambs', 'Batman Begins', 'Spider Man', 'The Hobbit', 'Troy', 'Jurassic Park', 'Scary Movie', 'Mission Impossible', 'Ted', 'Eat Pray Love', 'The Notebook', 'Love Actually', 'The Terminal', 'Crazy Stupid Love', 'Twilight', 'The Martian', 'Pursuit of Happyness']"
      ]
    },
    {
      "cell_type": "code",
      "execution_count": 21,
      "metadata": {},
      "outputs": [],
      "source": [
        "# convert to pandas series for convenience\n",
        "genres, movies = pd.Series(genres), pd.Series(movies)"
      ]
    },
    {
      "cell_type": "code",
      "execution_count": 22,
      "metadata": {},
      "outputs": [],
      "source": [
        "# preprocess movies using the given function\n",
        "movies = movies.apply(cleanupText)"
      ]
    },
    {
      "cell_type": "code",
      "execution_count": 23,
      "metadata": {},
      "outputs": [
        {
          "data": {
            "text/plain": [
              "0      the hangover\n",
              "1    shutter island\n",
              "2        fight club\n",
              "3           jumanji\n",
              "4            narcos\n",
              "dtype: object"
            ]
          },
          "execution_count": 23,
          "metadata": {},
          "output_type": "execute_result"
        }
      ],
      "source": [
        "# print an excerpt from the cleaned movie titles\n",
        "movies.head(5)"
      ]
    },
    {
      "cell_type": "markdown",
      "metadata": {},
      "source": [
        "#### 1"
      ]
    },
    {
      "cell_type": "code",
      "execution_count": 24,
      "metadata": {},
      "outputs": [],
      "source": [
        "# create a vector of work representations for the genres\n",
        "genres_repr = [fasttext[x] for x in genres]"
      ]
    },
    {
      "cell_type": "code",
      "execution_count": 25,
      "metadata": {},
      "outputs": [
        {
          "data": {
            "text/plain": [
              "tensor([-0.0333, -0.0354, -0.2975,  0.3557, -0.1027,  0.2664, -0.2555, -0.2246,\n",
              "         0.3623,  0.2451])"
            ]
          },
          "execution_count": 25,
          "metadata": {},
          "output_type": "execute_result"
        }
      ],
      "source": [
        "# print an example for a genre representation\n",
        "genres_repr[0][0:10]"
      ]
    },
    {
      "cell_type": "markdown",
      "metadata": {},
      "source": [
        "#### 2"
      ]
    },
    {
      "cell_type": "code",
      "execution_count": 26,
      "metadata": {},
      "outputs": [],
      "source": [
        "# get indexes for multi-word movies\n",
        "m_w_movies = movies.str.contains(\"\\s\")"
      ]
    },
    {
      "cell_type": "code",
      "execution_count": 27,
      "metadata": {},
      "outputs": [],
      "source": [
        "# find representations for the single-worded titles\n",
        "movies_repr = movies.loc[(~m_w_movies)].apply(lambda x: [fasttext[x]])"
      ]
    },
    {
      "cell_type": "code",
      "execution_count": 28,
      "metadata": {},
      "outputs": [
        {
          "data": {
            "text/plain": [
              "tensor([-0.1416, -0.0292, -0.6564,  0.4603, -0.3099,  0.2020,  0.0748,  0.2627,\n",
              "        -0.0303,  0.1476])"
            ]
          },
          "execution_count": 28,
          "metadata": {},
          "output_type": "execute_result"
        }
      ],
      "source": [
        "# print an example for a movie representation\n",
        "movies_repr[3][0][0:10]"
      ]
    },
    {
      "cell_type": "markdown",
      "metadata": {},
      "source": [
        "#### 3"
      ]
    },
    {
      "cell_type": "code",
      "execution_count": 29,
      "metadata": {},
      "outputs": [],
      "source": [
        "# create copy of movies for performing splits\n",
        "movies_split = movies.copy()"
      ]
    },
    {
      "cell_type": "code",
      "execution_count": 30,
      "metadata": {},
      "outputs": [],
      "source": [
        "# remove NLTK stopwords from the movie titles\n",
        "movies_split.loc[(m_w_movies)] = \\\n",
        "    movies_split.loc[(m_w_movies)].\\\n",
        "        apply(lambda x: [word for word in x.split() if word not in (stopwords.words(\"english\"))])"
      ]
    },
    {
      "cell_type": "code",
      "execution_count": 31,
      "metadata": {},
      "outputs": [
        {
          "data": {
            "text/plain": [
              "0           [hangover]\n",
              "1    [shutter, island]\n",
              "2        [fight, club]\n",
              "3              jumanji\n",
              "4               narcos\n",
              "dtype: object"
            ]
          },
          "execution_count": 31,
          "metadata": {},
          "output_type": "execute_result"
        }
      ],
      "source": [
        "# print an excerpt from the stopword-ridden movie titles\n",
        "movies_split.head(5)"
      ]
    },
    {
      "cell_type": "code",
      "execution_count": 32,
      "metadata": {},
      "outputs": [],
      "source": [
        "# retrieve the word representations of the other movie tiles and\n",
        "# add them to the list created in 2\n",
        "movies_repr = \\\n",
        "    pd.concat([movies_repr, \n",
        "               movies_split.\\\n",
        "                   loc[(m_w_movies)].apply(lambda x: [fasttext[word] for word in x]).\\\n",
        "                       reindex(m_w_movies[m_w_movies].index)])"
      ]
    },
    {
      "cell_type": "code",
      "execution_count": 33,
      "metadata": {},
      "outputs": [
        {
          "data": {
            "text/plain": [
              "tensor([-0.0040,  0.3072,  0.2663,  0.0526, -0.3134, -0.0728, -0.3778,  0.1787,\n",
              "        -0.1665, -0.1289])"
            ]
          },
          "execution_count": 33,
          "metadata": {},
          "output_type": "execute_result"
        }
      ],
      "source": [
        "# print another example for a movie representation\n",
        "movies_repr[1][0][0:10]"
      ]
    },
    {
      "cell_type": "markdown",
      "metadata": {},
      "source": [
        "#### 5"
      ]
    },
    {
      "cell_type": "code",
      "execution_count": 34,
      "metadata": {},
      "outputs": [],
      "source": [
        "# define a function for the dot product\n",
        "def cosine_sim(x, y):\n",
        "    return((x @ y) / ((sum(x ** 2)) ** .5) * ((sum(y ** 2)) ** .5))"
      ]
    },
    {
      "cell_type": "code",
      "execution_count": 35,
      "metadata": {},
      "outputs": [
        {
          "data": {
            "text/html": [
              "<div>\n",
              "<style scoped>\n",
              "    .dataframe tbody tr th:only-of-type {\n",
              "        vertical-align: middle;\n",
              "    }\n",
              "\n",
              "    .dataframe tbody tr th {\n",
              "        vertical-align: top;\n",
              "    }\n",
              "\n",
              "    .dataframe thead th {\n",
              "        text-align: right;\n",
              "    }\n",
              "</style>\n",
              "<table border=\"1\" class=\"dataframe\">\n",
              "  <thead>\n",
              "    <tr style=\"text-align: right;\">\n",
              "      <th></th>\n",
              "      <th>title</th>\n",
              "      <th>genre</th>\n",
              "    </tr>\n",
              "  </thead>\n",
              "  <tbody>\n",
              "    <tr>\n",
              "      <th>0</th>\n",
              "      <td>the hangover</td>\n",
              "      <td>comedy</td>\n",
              "    </tr>\n",
              "    <tr>\n",
              "      <th>1</th>\n",
              "      <td>shutter island</td>\n",
              "      <td>thriller</td>\n",
              "    </tr>\n",
              "    <tr>\n",
              "      <th>2</th>\n",
              "      <td>fight club</td>\n",
              "      <td>comedy</td>\n",
              "    </tr>\n",
              "    <tr>\n",
              "      <th>3</th>\n",
              "      <td>jumanji</td>\n",
              "      <td>adventure</td>\n",
              "    </tr>\n",
              "    <tr>\n",
              "      <th>4</th>\n",
              "      <td>narcos</td>\n",
              "      <td>thriller</td>\n",
              "    </tr>\n",
              "    <tr>\n",
              "      <th>5</th>\n",
              "      <td>the matrix</td>\n",
              "      <td>fantasy</td>\n",
              "    </tr>\n",
              "    <tr>\n",
              "      <th>6</th>\n",
              "      <td>rush hour</td>\n",
              "      <td>thriller</td>\n",
              "    </tr>\n",
              "    <tr>\n",
              "      <th>7</th>\n",
              "      <td>the mummy</td>\n",
              "      <td>horror</td>\n",
              "    </tr>\n",
              "    <tr>\n",
              "      <th>8</th>\n",
              "      <td>iron man</td>\n",
              "      <td>comedy</td>\n",
              "    </tr>\n",
              "    <tr>\n",
              "      <th>9</th>\n",
              "      <td>silence of the lambs</td>\n",
              "      <td>thriller</td>\n",
              "    </tr>\n",
              "    <tr>\n",
              "      <th>10</th>\n",
              "      <td>batman begins</td>\n",
              "      <td>horror</td>\n",
              "    </tr>\n",
              "    <tr>\n",
              "      <th>11</th>\n",
              "      <td>spider man</td>\n",
              "      <td>thriller</td>\n",
              "    </tr>\n",
              "    <tr>\n",
              "      <th>12</th>\n",
              "      <td>the hobbit</td>\n",
              "      <td>fantasy</td>\n",
              "    </tr>\n",
              "    <tr>\n",
              "      <th>13</th>\n",
              "      <td>troy</td>\n",
              "      <td>romance</td>\n",
              "    </tr>\n",
              "    <tr>\n",
              "      <th>14</th>\n",
              "      <td>jurassic park</td>\n",
              "      <td>adventure</td>\n",
              "    </tr>\n",
              "    <tr>\n",
              "      <th>15</th>\n",
              "      <td>scary movie</td>\n",
              "      <td>horror</td>\n",
              "    </tr>\n",
              "    <tr>\n",
              "      <th>16</th>\n",
              "      <td>mission impossible</td>\n",
              "      <td>adventure</td>\n",
              "    </tr>\n",
              "    <tr>\n",
              "      <th>17</th>\n",
              "      <td>ted</td>\n",
              "      <td>comedy</td>\n",
              "    </tr>\n",
              "    <tr>\n",
              "      <th>18</th>\n",
              "      <td>eat pray love</td>\n",
              "      <td>horror</td>\n",
              "    </tr>\n",
              "    <tr>\n",
              "      <th>19</th>\n",
              "      <td>the notebook</td>\n",
              "      <td>thriller</td>\n",
              "    </tr>\n",
              "    <tr>\n",
              "      <th>20</th>\n",
              "      <td>love actually</td>\n",
              "      <td>romance</td>\n",
              "    </tr>\n",
              "    <tr>\n",
              "      <th>21</th>\n",
              "      <td>the terminal</td>\n",
              "      <td>fantasy</td>\n",
              "    </tr>\n",
              "    <tr>\n",
              "      <th>22</th>\n",
              "      <td>crazy stupid love</td>\n",
              "      <td>comedy</td>\n",
              "    </tr>\n",
              "    <tr>\n",
              "      <th>23</th>\n",
              "      <td>twilight</td>\n",
              "      <td>fantasy</td>\n",
              "    </tr>\n",
              "    <tr>\n",
              "      <th>24</th>\n",
              "      <td>the martian</td>\n",
              "      <td>fantasy</td>\n",
              "    </tr>\n",
              "    <tr>\n",
              "      <th>25</th>\n",
              "      <td>pursuit of happyness</td>\n",
              "      <td>thriller</td>\n",
              "    </tr>\n",
              "  </tbody>\n",
              "</table>\n",
              "</div>"
            ],
            "text/plain": [
              "                   title      genre\n",
              "0           the hangover     comedy\n",
              "1         shutter island   thriller\n",
              "2             fight club     comedy\n",
              "3                jumanji  adventure\n",
              "4                 narcos   thriller\n",
              "5             the matrix    fantasy\n",
              "6              rush hour   thriller\n",
              "7              the mummy     horror\n",
              "8               iron man     comedy\n",
              "9   silence of the lambs   thriller\n",
              "10         batman begins     horror\n",
              "11            spider man   thriller\n",
              "12            the hobbit    fantasy\n",
              "13                  troy    romance\n",
              "14         jurassic park  adventure\n",
              "15           scary movie     horror\n",
              "16    mission impossible  adventure\n",
              "17                   ted     comedy\n",
              "18         eat pray love     horror\n",
              "19          the notebook   thriller\n",
              "20         love actually    romance\n",
              "21          the terminal    fantasy\n",
              "22     crazy stupid love     comedy\n",
              "23              twilight    fantasy\n",
              "24           the martian    fantasy\n",
              "25  pursuit of happyness   thriller"
            ]
          },
          "execution_count": 35,
          "metadata": {},
          "output_type": "execute_result"
        }
      ],
      "source": [
        "# print the classifications as a data frame\n",
        "pd.DataFrame({\"title\": movies.values,\n",
        "              \"genre\": movies_repr.sort_index().\\\n",
        "                  # calculate the cosine similarity between each word and genre\n",
        "                  apply(lambda x: [torch.tensor([cosine_sim(z, y) for y in genres_repr]) for z in x]).\\\n",
        "                      # stack the similarities and calculate genre-wise means\n",
        "                      apply(torch.stack).apply(torch.mean, axis = -2).\\\n",
        "                          # get the element with the highest similarity and map it to its genre\n",
        "                          apply(lambda x: x.argmax().item()).map(genres).values})"
      ]
    }
  ],
  "metadata": {
    "colab": {
      "provenance": []
    },
    "kernelspec": {
      "display_name": "Python 3",
      "name": "python3"
    },
    "language_info": {
      "codemirror_mode": {
        "name": "ipython",
        "version": 3
      },
      "file_extension": ".py",
      "mimetype": "text/x-python",
      "name": "python",
      "nbconvert_exporter": "python",
      "pygments_lexer": "ipython3",
      "version": "3.10.6"
    }
  },
  "nbformat": 4,
  "nbformat_minor": 0
}
